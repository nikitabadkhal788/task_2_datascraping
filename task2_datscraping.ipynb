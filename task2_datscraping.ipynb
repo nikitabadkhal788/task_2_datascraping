{
 "cells": [
  {
   "cell_type": "markdown",
   "id": "bf3c58bb",
   "metadata": {},
   "source": [
    "Tags"
   ]
  },
  {
   "cell_type": "code",
   "execution_count": null,
   "id": "92b5d333",
   "metadata": {},
   "outputs": [],
   "source": [
    "<html>\n",
    "\n",
    "<head>\n",
    "\n",
    "<body>\n",
    "\n",
    "<div>\n",
    "\n",
    "<span>\n",
    "\n",
    "<h2>\n",
    "\n",
    "<footer>\n",
    "\n",
    "<header>\n",
    "\n",
    "<ul>\n",
    "\n",
    "<link>\n",
    "\n",
    "<meta>\n",
    "\n",
    "<title>\n",
    "\n",
    "<small>\n",
    "\n",
    "<h1>\n",
    "\n",
    "<nav>\n",
    "\n",
    "<p>\n",
    "\n",
    "<br>\n",
    "\n",
    "<a>\n",
    "\n",
    "<h3>\n",
    "\n"
   ]
  },
  {
   "cell_type": "markdown",
   "id": "69692b52",
   "metadata": {},
   "source": [
    "Classes"
   ]
  },
  {
   "cell_type": "code",
   "execution_count": null,
   "id": "de891b89",
   "metadata": {},
   "outputs": [],
   "source": [
    "class=\"container\"\n",
    "\n",
    "class=\"row header-box\"\n",
    "\n",
    "class=\"row\"\n",
    "\n",
    "class=\"col-md-8\"\n",
    "\n",
    "class=\"col-md-4 tags-box\"\n",
    "\n",
    "class=\"tag-item\"\n",
    "\n",
    "class=\"footer\"\n",
    "\n",
    "class=\"quote\"\n",
    "\n",
    "class=\"text\"\n",
    "\n",
    "class=\"author\"\n",
    "\n",
    "class=\"tag\"\n",
    "\n",
    "class=\"keywords\"\n",
    "\n",
    "class=\"next\"\n",
    "\n",
    "class=\"pager\"\n",
    "\n",
    "class=\"text muted\"\n",
    "\n",
    "class=\"copyright\"\n",
    "\n",
    "class=\"zyte\""
   ]
  },
  {
   "cell_type": "markdown",
   "id": "cea3cb28",
   "metadata": {},
   "source": [
    "IDs"
   ]
  },
  {
   "cell_type": "code",
   "execution_count": null,
   "id": "7a87a57c",
   "metadata": {},
   "outputs": [],
   "source": [
    "No significant id on this page"
   ]
  }
 ],
 "metadata": {
  "language_info": {
   "name": "python"
  }
 },
 "nbformat": 4,
 "nbformat_minor": 5
}
